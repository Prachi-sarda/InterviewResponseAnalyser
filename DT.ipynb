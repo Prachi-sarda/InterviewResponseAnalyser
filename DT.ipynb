{
 "cells": [
  {
   "cell_type": "code",
   "execution_count": 1,
   "metadata": {},
   "outputs": [
    {
     "name": "stderr",
     "output_type": "stream",
     "text": [
      "[nltk_data] Downloading package stopwords to\n",
      "[nltk_data]     C:\\Users\\prachi\\AppData\\Roaming\\nltk_data...\n",
      "[nltk_data]   Package stopwords is already up-to-date!\n",
      "[nltk_data] Downloading package punkt to\n",
      "[nltk_data]     C:\\Users\\prachi\\AppData\\Roaming\\nltk_data...\n",
      "[nltk_data]   Package punkt is already up-to-date!\n",
      "[nltk_data] Downloading package wordnet to\n",
      "[nltk_data]     C:\\Users\\prachi\\AppData\\Roaming\\nltk_data...\n",
      "[nltk_data]   Package wordnet is already up-to-date!\n"
     ]
    }
   ],
   "source": [
    "from sklearn.feature_extraction.text import TfidfVectorizer\n",
    "from sklearn.tree import DecisionTreeClassifier\n",
    "from sklearn.model_selection import train_test_split\n",
    "from sklearn.metrics import classification_report\n",
    "import spacy\n",
    "nlp = spacy.load(\"en_core_web_sm\")\n",
    "import pandas as pd\n",
    "import nltk\n",
    "from textblob import TextBlob\n",
    "import re\n",
    "from nltk.corpus import stopwords\n",
    "from nltk.stem import WordNetLemmatizer\n",
    "from sklearn.preprocessing import StandardScaler\n",
    "from sklearn.feature_extraction.text import TfidfVectorizer\n",
    "from sklearn.model_selection import train_test_split\n",
    "from sklearn.metrics import classification_report\n",
    "from sklearn.feature_extraction.text import ENGLISH_STOP_WORDS\n",
    "from textstat import flesch_kincaid_grade\n",
    "\n",
    "\n",
    "nltk.download('stopwords')\n",
    "nltk.download('punkt')\n",
    "nltk.download('wordnet')\n",
    "\n",
    "lemmatizer = WordNetLemmatizer()\n",
    "stop_words = set(stopwords.words('english')) | set(ENGLISH_STOP_WORDS)\n",
    "\n",
    "def preprocess_text(text):\n",
    "    text = re.sub(r'[^\\x00-\\x7F]+', ' ', text)  # Remove characters outside of ASCII range\n",
    "    text = text.encode('ascii', 'ignore').decode('ascii')  # Further clean encoding artifacts\n",
    "\n",
    "    text = re.sub(r'[^a-zA-Z\\s]', '', text, re.I)\n",
    "    text = text.lower()\n",
    "    tokens = nltk.word_tokenize(text)\n",
    "    tokens = [word for word in tokens if word not in stop_words]\n",
    "    tokens = [lemmatizer.lemmatize(word) for word in tokens]\n",
    "    cleaned_text = ' '.join(tokens)\n",
    "    return cleaned_text\n",
    "\n",
    "def compute_sentiment(text):\n",
    "    blob = TextBlob(text)\n",
    "    return blob.sentiment.polarity  # Range from -1 (negative) to 1 (positive)\n",
    "\n",
    "def compute_word_count(text):\n",
    "    return len(text.split())\n",
    "\n",
    "def compute_complexity(text):\n",
    "    return flesch_kincaid_grade(text)\n",
    "\n",
    "def sentence_structure(text):\n",
    "    doc = nlp(text)\n",
    "    pos_tags = [token.pos_ for token in doc]\n",
    "    return len(set(pos_tags))  # unique POS"
   ]
  },
  {
   "cell_type": "code",
   "execution_count": 2,
   "metadata": {},
   "outputs": [],
   "source": [
    "df = pd.read_csv(r\"C:\\Users\\prachi\\Desktop\\combined_dataset.csv\")"
   ]
  },
  {
   "cell_type": "code",
   "execution_count": 3,
   "metadata": {},
   "outputs": [],
   "source": [
    "df['Answer Quality'] = df['Answer Quality'].replace('bad', 'poor')\n",
    "# Remove classes with a single instance, or combine them with similar categories if needed\n",
    "df['Answer Quality'] = df['Answer Quality'].str.strip().str.lower()\n",
    "df = df[df['Answer Quality'] != 'bad']\n",
    "df = df[df['Answer Quality'] != 'good ']\n",
    "\n",
    "quality_mapping = {\n",
    "    'good': 1,\n",
    "    'average': 0,\n",
    "    'poor': -1\n",
    "}\n",
    "df['Answer Quality'] = df['Answer Quality'].map(quality_mapping)\n",
    "df = df[pd.to_numeric(df['Answer Quality'], errors='coerce').notnull()]\n",
    "y = df['Answer Quality'].astype(int)"
   ]
  },
  {
   "cell_type": "code",
   "execution_count": 4,
   "metadata": {},
   "outputs": [],
   "source": [
    "df['Cleaned_Answer'] = df['Answer'].apply(preprocess_text)\n",
    "df['Word_Count'] = df['Cleaned_Answer'].apply(compute_word_count)\n",
    "df['Sentiment'] = df['Cleaned_Answer'].apply(compute_sentiment)\n",
    "df['Sentence_Structure_Variability'] = df['Cleaned_Answer'].apply(sentence_structure)\n",
    "df['Text_Complexity'] = df['Cleaned_Answer'].apply(compute_complexity)"
   ]
  },
  {
   "cell_type": "code",
   "execution_count": 5,
   "metadata": {},
   "outputs": [],
   "source": [
    "tfidf = TfidfVectorizer()\n",
    "tfidf_matrix = tfidf.fit_transform(df['Cleaned_Answer'])\n",
    "tfidf_df = pd.DataFrame(tfidf_matrix.toarray(), columns=tfidf.get_feature_names_out())\n",
    "scaler = StandardScaler()\n",
    "scaled_df = scaler.fit_transform(df[['Word_Count', 'Sentiment','Text_Complexity','Sentence_Structure_Variability']])\n",
    "scaled_df = pd.DataFrame(scaled_df)\n",
    "new_df = pd.concat([scaled_df, df[['Cleaned_Answer']]], axis=1)\n",
    "\n",
    "new_df = pd.concat([scaled_df, tfidf_df], axis=1)"
   ]
  },
  {
   "cell_type": "code",
   "execution_count": 6,
   "metadata": {},
   "outputs": [
    {
     "name": "stdout",
     "output_type": "stream",
     "text": [
      "              precision    recall  f1-score   support\n",
      "\n",
      "          -1       0.41      0.53      0.46        38\n",
      "           0       0.28      0.39      0.32        62\n",
      "           1       0.85      0.76      0.80       311\n",
      "\n",
      "    accuracy                           0.68       411\n",
      "   macro avg       0.51      0.56      0.53       411\n",
      "weighted avg       0.72      0.68      0.70       411\n",
      "\n"
     ]
    }
   ],
   "source": [
    "new_df.columns = new_df.columns.astype(str)\n",
    "\n",
    "X_train, X_test, y_train, y_test = train_test_split(new_df, y, test_size=0.2, random_state=42)\n",
    "# Train a decision tree classifier\n",
    "clf = DecisionTreeClassifier(class_weight='balanced')  # Automatically handles imbalance\n",
    "clf.fit(X_train, y_train)\n",
    "\n",
    "# Predictions and evaluation\n",
    "y_pred = clf.predict(X_test)\n",
    "print(classification_report(y_test, y_pred))"
   ]
  }
 ],
 "metadata": {
  "kernelspec": {
   "display_name": ".muvenv",
   "language": "python",
   "name": "python3"
  },
  "language_info": {
   "codemirror_mode": {
    "name": "ipython",
    "version": 3
   },
   "file_extension": ".py",
   "mimetype": "text/x-python",
   "name": "python",
   "nbconvert_exporter": "python",
   "pygments_lexer": "ipython3",
   "version": "3.12.1"
  }
 },
 "nbformat": 4,
 "nbformat_minor": 2
}
