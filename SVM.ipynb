{
  "cells": [
    {
      "cell_type": "code",
      "execution_count": 1,
      "metadata": {
        "colab": {
          "base_uri": "https://localhost:8080/"
        },
        "id": "3hC2RgvtY_hO",
        "outputId": "ec760588-4a44-4563-9751-d59a4e2d7fc5"
      },
      "outputs": [
        {
          "name": "stderr",
          "output_type": "stream",
          "text": [
            "[nltk_data] Downloading package stopwords to\n",
            "[nltk_data]     C:\\Users\\prachi\\AppData\\Roaming\\nltk_data...\n",
            "[nltk_data]   Package stopwords is already up-to-date!\n",
            "[nltk_data] Downloading package punkt to\n",
            "[nltk_data]     C:\\Users\\prachi\\AppData\\Roaming\\nltk_data...\n",
            "[nltk_data]   Package punkt is already up-to-date!\n",
            "[nltk_data] Downloading package wordnet to\n",
            "[nltk_data]     C:\\Users\\prachi\\AppData\\Roaming\\nltk_data...\n",
            "[nltk_data]   Package wordnet is already up-to-date!\n",
            "[nltk_data] Downloading package punkt_tab to\n",
            "[nltk_data]     C:\\Users\\prachi\\AppData\\Roaming\\nltk_data...\n",
            "[nltk_data]   Package punkt_tab is already up-to-date!\n"
          ]
        },
        {
          "data": {
            "text/plain": [
              "True"
            ]
          },
          "execution_count": 1,
          "metadata": {},
          "output_type": "execute_result"
        }
      ],
      "source": [
        "import pandas as pd\n",
        "import numpy as np\n",
        "import nltk\n",
        "from textblob import TextBlob\n",
        "import re\n",
        "import spacy\n",
        "nlp = spacy.load(\"en_core_web_sm\")\n",
        "from nltk.corpus import stopwords\n",
        "from nltk.stem import WordNetLemmatizer\n",
        "from sklearn.preprocessing import StandardScaler\n",
        "from sklearn.feature_extraction.text import TfidfVectorizer\n",
        "from sklearn.ensemble import RandomForestClassifier\n",
        "from sklearn.metrics import classification_report\n",
        "from sklearn.svm import SVC\n",
        "from sklearn.model_selection import train_test_split\n",
        "from sklearn.metrics import accuracy_score\n",
        "from sklearn.feature_extraction.text import ENGLISH_STOP_WORDS\n",
        "from imblearn.over_sampling import SMOTE\n",
        "from textstat import flesch_kincaid_grade\n",
        "\n",
        "nltk.download('stopwords')\n",
        "nltk.download('punkt')\n",
        "nltk.download('wordnet')\n",
        "nltk.download('punkt_tab')"
      ]
    },
    {
      "cell_type": "code",
      "execution_count": 2,
      "metadata": {
        "id": "za8zX59FY_hQ"
      },
      "outputs": [],
      "source": [
        "lemmatizer = WordNetLemmatizer()\n",
        "stop_words = set(stopwords.words('english')) | set(ENGLISH_STOP_WORDS)\n",
        "def preprocess_text(text):\n",
        "    text = re.sub(r'[^\\x00-\\x7F]+', ' ', text)  \n",
        "    text = text.encode('ascii', 'ignore').decode('ascii') \n",
        "    text = re.sub(r'[^a-zA-Z\\s]', '', text, re.I)\n",
        "    text = text.lower()\n",
        "    tokens = nltk.word_tokenize(text)\n",
        "\n",
        "    tokens = [word for word in tokens if word not in stop_words]\n",
        "    tokens = [lemmatizer.lemmatize(word) for word in tokens]\n",
        "    cleaned_text = ' '.join(tokens)\n",
        "    return cleaned_text\n",
        "\n",
        "def compute_sentiment(text):\n",
        "    blob = TextBlob(text)\n",
        "    return blob.sentiment.polarity  # Range from -1 (negative) to 1 (positive)\n",
        "\n",
        "def compute_word_count(text):\n",
        "    return len(text.split())\n",
        "\n",
        "def compute_complexity(text):\n",
        "    return flesch_kincaid_grade(text)"
      ]
    },
    {
      "cell_type": "code",
      "execution_count": 3,
      "metadata": {
        "id": "PrHmnya6Y_hQ"
      },
      "outputs": [],
      "source": [
        "df = pd.read_csv(r\"C:\\Users\\prachi\\Desktop\\combined_dataset.csv\")"
      ]
    },
    {
      "cell_type": "code",
      "execution_count": 4,
      "metadata": {},
      "outputs": [],
      "source": [
        "# Preprocesses the output column\n",
        "df['Answer Quality'] = df['Answer Quality'].replace('bad', 'poor')\n",
        "df['Answer Quality'] = df['Answer Quality'].str.strip().str.lower()\n",
        "df = df[df['Answer Quality'] != 'bad']\n",
        "df = df[df['Answer Quality'] != 'good ']\n",
        "\n",
        "quality_mapping = {\n",
        "    'good': 1,\n",
        "    'average': 0,\n",
        "    'poor': -1\n",
        "}\n",
        "\n",
        "df['Answer Quality'] = df['Answer Quality'].map(quality_mapping)\n",
        "df = df[pd.to_numeric(df['Answer Quality'], errors='coerce').notnull()]\n",
        "df['Answer Quality'] = df['Answer Quality'].astype(int)\n",
        "\n",
        "y=df[['Answer Quality']]"
      ]
    },
    {
      "cell_type": "code",
      "execution_count": 5,
      "metadata": {
        "id": "mXks7Ai-Y_hR"
      },
      "outputs": [],
      "source": [
        "df['Cleaned_Answer'] = df['Answer'].apply(preprocess_text)\n",
        "df['Word_Count'] = df['Cleaned_Answer'].apply(compute_word_count)\n",
        "df['Sentiment'] = df['Cleaned_Answer'].apply(compute_sentiment)\n",
        "df['Text_Complexity'] = df['Cleaned_Answer'].apply(compute_complexity)"
      ]
    },
    {
      "cell_type": "code",
      "execution_count": 6,
      "metadata": {},
      "outputs": [],
      "source": [
        "tfidf = TfidfVectorizer()\n",
        "tfidf_matrix = tfidf.fit_transform(df['Cleaned_Answer'])\n",
        "tfidf_df = pd.DataFrame(tfidf_matrix.toarray(), columns=tfidf.get_feature_names_out())"
      ]
    },
    {
      "cell_type": "code",
      "execution_count": 8,
      "metadata": {},
      "outputs": [],
      "source": [
        "scaler = StandardScaler()\n",
        "scaled_df = scaler.fit_transform(df[['Word_Count', 'Sentiment','Text_Complexity']])\n",
        "scaled_df = pd.DataFrame(scaled_df)\n",
        "X = pd.concat([scaled_df, tfidf_df], axis=1)\n",
        "X.columns = X.columns.astype(str)"
      ]
    },
    {
      "cell_type": "code",
      "execution_count": 9,
      "metadata": {},
      "outputs": [],
      "source": [
        "X_train, X_test, y_train, y_test = train_test_split(X, y, test_size=0.2, random_state=42)"
      ]
    },
    {
      "cell_type": "code",
      "execution_count": 10,
      "metadata": {},
      "outputs": [
        {
          "name": "stderr",
          "output_type": "stream",
          "text": [
            "c:\\Users\\prachi\\Desktop\\MU_Codes\\.muvenv\\Lib\\site-packages\\sklearn\\base.py:1473: DataConversionWarning: A column-vector y was passed when a 1d array was expected. Please change the shape of y to (n_samples,), for example using ravel().\n",
            "  return fit_method(estimator, *args, **kwargs)\n"
          ]
        }
      ],
      "source": [
        "model = RandomForestClassifier(random_state=42)\n",
        "model.fit(X_train, y_train)\n",
        "feature_importances = pd.DataFrame(model.feature_importances_, index=X_train.columns, columns=['importance']).sort_values('importance', ascending=False)\n",
        "\n",
        "low_importance_features = feature_importances[feature_importances['importance'] < 0.05].index\n",
        "X_train_reduced = X_train.drop(columns=low_importance_features)\n",
        "X_test_reduced = X_test.drop(columns=low_importance_features)\n"
      ]
    },
    {
      "cell_type": "code",
      "execution_count": 11,
      "metadata": {},
      "outputs": [],
      "source": [
        "smote = SMOTE(random_state=42)\n",
        "X_resampled, y_resampled = smote.fit_resample(X_train_reduced, y_train)"
      ]
    },
    {
      "cell_type": "code",
      "execution_count": 12,
      "metadata": {
        "colab": {
          "base_uri": "https://localhost:8080/"
        },
        "id": "8vQVEVM7kd5v",
        "outputId": "d5b337d9-a20c-464a-c8f6-e2e083b413d8"
      },
      "outputs": [
        {
          "name": "stdout",
          "output_type": "stream",
          "text": [
            "Accuracy: 53.77%\n",
            "\n",
            "Classification Report:\n",
            "              precision    recall  f1-score   support\n",
            "\n",
            "          -1       0.33      0.79      0.47        38\n",
            "           0       0.18      0.40      0.25        62\n",
            "           1       0.90      0.53      0.67       311\n",
            "\n",
            "    accuracy                           0.54       411\n",
            "   macro avg       0.47      0.58      0.46       411\n",
            "weighted avg       0.74      0.54      0.59       411\n",
            "\n"
          ]
        },
        {
          "name": "stderr",
          "output_type": "stream",
          "text": [
            "c:\\Users\\prachi\\Desktop\\MU_Codes\\.muvenv\\Lib\\site-packages\\sklearn\\utils\\validation.py:1339: DataConversionWarning: A column-vector y was passed when a 1d array was expected. Please change the shape of y to (n_samples, ), for example using ravel().\n",
            "  y = column_or_1d(y, warn=True)\n"
          ]
        }
      ],
      "source": [
        "svm_model = SVC(kernel='linear', class_weight='balanced')\n",
        "svm_model.fit(X_resampled, y_resampled)\n",
        "\n",
        "y_pred = svm_model.predict(X_test_reduced)\n",
        "\n",
        "accuracy = accuracy_score(y_test, y_pred)\n",
        "print(f\"Accuracy: {accuracy * 100:.2f}%\")\n",
        "\n",
        "print(\"\\nClassification Report:\")\n",
        "print(classification_report(y_test, y_pred))"
      ]
    }
  ],
  "metadata": {
    "colab": {
      "provenance": []
    },
    "kernelspec": {
      "display_name": "Python 3",
      "language": "python",
      "name": "python3"
    },
    "language_info": {
      "codemirror_mode": {
        "name": "ipython",
        "version": 3
      },
      "file_extension": ".py",
      "mimetype": "text/x-python",
      "name": "python",
      "nbconvert_exporter": "python",
      "pygments_lexer": "ipython3",
      "version": "3.12.1"
    }
  },
  "nbformat": 4,
  "nbformat_minor": 0
}
